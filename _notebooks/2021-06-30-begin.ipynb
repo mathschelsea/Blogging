{
 "cells": [
  {
   "cell_type": "markdown",
   "metadata": {},
   "source": [
    "# \"And so it begins...\"\n",
    "> \"The start of a blog on Data Science\"\n",
    "\n",
    "- toc: true\n",
    "- branch: master\n",
    "- comments: true\n",
    "- author: Chelsea Tucker\n",
    "- categories: [jupyter]"
   ]
  },
  {
   "cell_type": "markdown",
   "metadata": {},
   "source": [
    "## Mission Statement\n",
    ">*'I will not rest until I have you holding a Coke, wearing your own shoe, playing a Sega game featuring you, while singing your own song in a new commercial, starring you, broadcast during the Superbowl, in a game that you are winning, and I will not sleep until that happens.'* - Jerry Maguire\n",
    "\n",
    "These writings don't aim to impress. They are simply an account of one person's learning curve. The intention is to showcase an honest journey that is accessible to all. Too often topics like Data Science are shrouded in mystery, kept from the masses by large organisations and the highest levels of education. When learnings are shared, they usually alienate eager pupils with overly-complicated content. This suffocation of aspiration needs to end and a new wave of alternative learning needs to emerge. It's time to be kind and share our journey - the good and the bad. It's also time to be gracious and remember that all teachers were once pupils. Here is my account."
   ]
  },
  {
   "cell_type": "markdown",
   "metadata": {},
   "source": [
    "## \"Who even is MathsChelsea?\"\n",
    "I can tell you the answer for yesterday but tomorrow is a whole different story"
   ]
  }
 ],
 "metadata": {
  "kernelspec": {
   "display_name": "Python 3",
   "language": "python",
   "name": "python3"
  },
  "language_info": {
   "codemirror_mode": {
    "name": "ipython",
    "version": 3
   },
   "file_extension": ".py",
   "mimetype": "text/x-python",
   "name": "python",
   "nbconvert_exporter": "python",
   "pygments_lexer": "ipython3",
   "version": "3.8.3"
  }
 },
 "nbformat": 4,
 "nbformat_minor": 4
}
